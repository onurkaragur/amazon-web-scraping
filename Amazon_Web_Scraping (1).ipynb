{
 "cells": [
  {
   "cell_type": "code",
   "execution_count": 9,
   "id": "18c41f04-81d8-493f-9f34-bb62a37fcab3",
   "metadata": {},
   "outputs": [],
   "source": [
    "#Import Libraries\n",
    "from bs4 import BeautifulSoup\n",
    "import requests\n",
    "import time\n",
    "import datetime\n",
    "import csv\n",
    "import pandas as pd\n",
    "import smtplib"
   ]
  },
  {
   "cell_type": "code",
   "execution_count": 11,
   "id": "c2571a8a-5182-4070-944f-e66257cd49b7",
   "metadata": {},
   "outputs": [],
   "source": [
    "#Establish Connection to Website\n",
    "URL = \"https://www.amazon.com/Super-Smash-Bros-Ultimate-Nintendo-Switch/dp/B01N5OKGLH/ref=sr_1_6?crid=2VHNANQ1Z1OFE&dib=eyJ2IjoiMSJ9.5aPP_-qqkC8WqPd_02AoN83NuUUuGLGaJ8g_tK0GZgNmLcKuHW5FpwEHJ4msLVZrQ-sUK0P6IqN7QR8W66_9Y_RTMtwjp-FchMcSMwuFq-ncXykoYzCXl3u2WGnaglnavHr5A-B0fFTRm4VFAeqFjr6tMybEQDWw2G36jOxts7DQM9rDqWY0AtD2QqHdIIbsFU1W6P4JB8q48LwcyvnkPQozLzBIRU1b7-G_eDzWV7Y.OUpMLDWcVJ97hJO_z8zgrc5LCv4pByg-vcFHS_3Tgn8&dib_tag=se&keywords=video+games&qid=1738929348&sprefix=Video+G%2Caps%2C258&sr=8-6\"\n",
    "headers = {\"User-Agent\": \"Mozilla/5.0 (Windows NT 10.0; Win64; x64) AppleWebKit/537.36 (KHTML, like Gecko) Chrome/132.0.0.0 Safari/537.36\", \"Accept-Encoding\":\"gzip, deflate\", \"Accept\":\"text/html,application/xhtml+xml,application/xml;q=0.9,*/*;q=0.8\", \"DNT\":\"1\",\"Connection\":\"close\", \"Upgrade-Insecure-Requests\":\"1\"}\n",
    "page = requests.get(URL, headers=headers)\n",
    "\n",
    "soup1 = BeautifulSoup(page.content, \"html.parser\")\n",
    "\n",
    "title = soup1.find(id=\"productTitle\").get_text().strip()\n",
    "price_whole = soup1.find(class_='a-price-whole').get_text(strip=True)\n",
    "price_fraction = soup1.find(class_='a-price-fraction').get_text(strip=True)\n",
    "price = f'{price_whole}{price_fraction}'"
   ]
  },
  {
   "cell_type": "code",
   "execution_count": 15,
   "id": "6aa5fd0d-c4d1-47f2-8e5c-0250443eb94c",
   "metadata": {},
   "outputs": [
    {
     "name": "stdout",
     "output_type": "stream",
     "text": [
      "2025-02-07\n"
     ]
    }
   ],
   "source": [
    "#Timestamp to get data collection date\n",
    "today = datetime.date.today()\n",
    "print(today)"
   ]
  },
  {
   "cell_type": "code",
   "execution_count": 17,
   "id": "1ef36eb0-a049-41e3-afef-1cea98d9d8ec",
   "metadata": {},
   "outputs": [],
   "source": [
    "#Create CSV file and write onto it\n",
    "header = [\"Title\",\"Price\",\"Date\"]\n",
    "data = [title,price,today]\n",
    "\n",
    "#with open(\"AmazonWebScraperDataset.csv\", 'w', newline=\"\", encoding=\"UTF8\") as f:\n",
    "    #writer = csv.writer(f)\n",
    "    #writer.writerow(header)\n",
    "    #writer.writerow(data)"
   ]
  },
  {
   "cell_type": "code",
   "execution_count": 19,
   "id": "8a514e5b-20c2-4e2f-bfb7-0e5d6c7e0527",
   "metadata": {},
   "outputs": [],
   "source": [
    "#Appending data to the CSV file\n",
    "with open(\"AmazonWebScraperDataset.csv\", 'a+', newline=\"\", encoding=\"UTF8\") as f:\n",
    "    writer = csv.writer(f)\n",
    "    writer.writerow(data) "
   ]
  },
  {
   "cell_type": "code",
   "execution_count": 21,
   "id": "5d3c2f80-95e6-41de-a53d-d7e2c07c0a69",
   "metadata": {},
   "outputs": [],
   "source": [
    "def check_price():\n",
    "    URL = \"https://www.amazon.com/Super-Smash-Bros-Ultimate-Nintendo-Switch/dp/B01N5OKGLH/ref=sr_1_6?crid=2VHNANQ1Z1OFE&dib=eyJ2IjoiMSJ9.5aPP_-qqkC8WqPd_02AoN83NuUUuGLGaJ8g_tK0GZgNmLcKuHW5FpwEHJ4msLVZrQ-sUK0P6IqN7QR8W66_9Y_RTMtwjp-FchMcSMwuFq-ncXykoYzCXl3u2WGnaglnavHr5A-B0fFTRm4VFAeqFjr6tMybEQDWw2G36jOxts7DQM9rDqWY0AtD2QqHdIIbsFU1W6P4JB8q48LwcyvnkPQozLzBIRU1b7-G_eDzWV7Y.OUpMLDWcVJ97hJO_z8zgrc5LCv4pByg-vcFHS_3Tgn8&dib_tag=se&keywords=video+games&qid=1738929348&sprefix=Video+G%2Caps%2C258&sr=8-6\"\n",
    "    headers = {\"User-Agent\": \"Mozilla/5.0 (Windows NT 10.0; Win64; x64) AppleWebKit/537.36 (KHTML, like Gecko) Chrome/132.0.0.0 Safari/537.36\", \"Accept-Encoding\":\"gzip, deflate\", \"Accept\":\"text/html,application/xhtml+xml,application/xml;q=0.9,*/*;q=0.8\", \"DNT\":\"1\",\"Connection\":\"close\", \"Upgrade-Insecure-Requests\":\"1\"}\n",
    "    page = requests.get(URL, headers=headers)\n",
    "\n",
    "    soup1 = BeautifulSoup(page.content, \"html.parser\")\n",
    "\n",
    "    title = soup1.find(id=\"productTitle\").get_text().strip()\n",
    "    price_whole = soup2.find(class_='a-price-whole').get_text(strip=True)\n",
    "    price_fraction = soup2.find(class_='a-price-fraction').get_text(strip=True)\n",
    "    price = f'{price_whole}{price_fraction}'\n",
    "\n",
    "    today = datetime.date.today()\n",
    "\n",
    "    header = [\"Title\",\"Price\",\"Date\"]\n",
    "    data = [title,price,today]\n",
    "\n",
    "    with open(\"AmazonWebScraperDataset.csv\", 'a+', newline=\"\", encoding=\"UTF8\") as f:\n",
    "        writer = csv.writer(f)\n",
    "        writer.writerow(data)\n",
    "\n",
    "    if float(price)<50:\n",
    "        send_mail()        "
   ]
  },
  {
   "cell_type": "code",
   "execution_count": 23,
   "id": "fd8c554f-d254-444f-9e8f-f2c06307a6ed",
   "metadata": {},
   "outputs": [
    {
     "ename": "NameError",
     "evalue": "name 'soup2' is not defined",
     "output_type": "error",
     "traceback": [
      "\u001b[1;31m---------------------------------------------------------------------------\u001b[0m",
      "\u001b[1;31mNameError\u001b[0m                                 Traceback (most recent call last)",
      "Cell \u001b[1;32mIn[23], line 2\u001b[0m\n\u001b[0;32m      1\u001b[0m \u001b[38;5;28;01mwhile\u001b[39;00m(\u001b[38;5;28;01mTrue\u001b[39;00m):\n\u001b[1;32m----> 2\u001b[0m     check_price()\n\u001b[0;32m      3\u001b[0m     \u001b[38;5;66;03m#time.sleep(5) Demonstration\u001b[39;00m\n\u001b[0;32m      4\u001b[0m     time\u001b[38;5;241m.\u001b[39msleep(\u001b[38;5;241m86400\u001b[39m)\n",
      "Cell \u001b[1;32mIn[21], line 9\u001b[0m, in \u001b[0;36mcheck_price\u001b[1;34m()\u001b[0m\n\u001b[0;32m      6\u001b[0m soup1 \u001b[38;5;241m=\u001b[39m BeautifulSoup(page\u001b[38;5;241m.\u001b[39mcontent, \u001b[38;5;124m\"\u001b[39m\u001b[38;5;124mhtml.parser\u001b[39m\u001b[38;5;124m\"\u001b[39m)\n\u001b[0;32m      8\u001b[0m title \u001b[38;5;241m=\u001b[39m soup1\u001b[38;5;241m.\u001b[39mfind(\u001b[38;5;28mid\u001b[39m\u001b[38;5;241m=\u001b[39m\u001b[38;5;124m\"\u001b[39m\u001b[38;5;124mproductTitle\u001b[39m\u001b[38;5;124m\"\u001b[39m)\u001b[38;5;241m.\u001b[39mget_text()\u001b[38;5;241m.\u001b[39mstrip()\n\u001b[1;32m----> 9\u001b[0m price_whole \u001b[38;5;241m=\u001b[39m soup2\u001b[38;5;241m.\u001b[39mfind(class_\u001b[38;5;241m=\u001b[39m\u001b[38;5;124m'\u001b[39m\u001b[38;5;124ma-price-whole\u001b[39m\u001b[38;5;124m'\u001b[39m)\u001b[38;5;241m.\u001b[39mget_text(strip\u001b[38;5;241m=\u001b[39m\u001b[38;5;28;01mTrue\u001b[39;00m)\n\u001b[0;32m     10\u001b[0m price_fraction \u001b[38;5;241m=\u001b[39m soup2\u001b[38;5;241m.\u001b[39mfind(class_\u001b[38;5;241m=\u001b[39m\u001b[38;5;124m'\u001b[39m\u001b[38;5;124ma-price-fraction\u001b[39m\u001b[38;5;124m'\u001b[39m)\u001b[38;5;241m.\u001b[39mget_text(strip\u001b[38;5;241m=\u001b[39m\u001b[38;5;28;01mTrue\u001b[39;00m)\n\u001b[0;32m     11\u001b[0m price \u001b[38;5;241m=\u001b[39m \u001b[38;5;124mf\u001b[39m\u001b[38;5;124m'\u001b[39m\u001b[38;5;132;01m{\u001b[39;00mprice_whole\u001b[38;5;132;01m}\u001b[39;00m\u001b[38;5;132;01m{\u001b[39;00mprice_fraction\u001b[38;5;132;01m}\u001b[39;00m\u001b[38;5;124m'\u001b[39m\n",
      "\u001b[1;31mNameError\u001b[0m: name 'soup2' is not defined"
     ]
    }
   ],
   "source": [
    "while(True):\n",
    "    check_price()\n",
    "    #time.sleep(5) Demonstration\n",
    "    time.sleep(86400)"
   ]
  },
  {
   "cell_type": "code",
   "execution_count": null,
   "id": "f1a06b71-1a5b-4dfa-9446-fee523d6d9a1",
   "metadata": {},
   "outputs": [],
   "source": [
    "df = pd.read_csv(\"AmazonWebScraperDataset.csv\")\n",
    "print(df)"
   ]
  },
  {
   "cell_type": "code",
   "execution_count": 29,
   "id": "31a71000-b1f1-4cf6-a37a-94cdcf5191f2",
   "metadata": {},
   "outputs": [],
   "source": [
    "def send_mail():\n",
    "    server = smtplib.SMTP_SSL('smtp.gmail.com',465)\n",
    "    server.ehlo()\n",
    "    #server.starttls()\n",
    "    server.ehlo()\n",
    "    server.login('USERMAILADDRESSHERE','xxxxxxxxxxxxxx')\n",
    "    \n",
    "    subject = \"The game you wanted to buy is below $50 now!\"\n",
    "    body = \"USERNAMEHERE, Super Smash Bros. Ultimate is finally on sale. Here is the link: https://www.amazon.com/Super-Smash-Bros-Ultimate-Nintendo-Switch/dp/B01N5OKGLH/ref=sr_1_6?crid=2VHNANQ1Z1OFE&dib=eyJ2IjoiMSJ9.5aPP_-qqkC8WqPd_02AoN83NuUUuGLGaJ8g_tK0GZgNmLcKuHW5FpwEHJ4msLVZrQ-sUK0P6IqN7QR8W66_9Y_RTMtwjp-FchMcSMwuFq-ncXykoYzCXl3u2WGnaglnavHr5A-B0fFTRm4VFAeqFjr6tMybEQDWw2G36jOxts7DQM9rDqWY0AtD2QqHdIIbsFU1W6P4JB8q48LwcyvnkPQozLzBIRU1b7-G_eDzWV7Y.OUpMLDWcVJ97hJO_z8zgrc5LCv4pByg-vcFHS_3Tgn8&dib_tag=se&keywords=video+games&qid=1738929348&sprefix=Video+G%2Caps%2C258&sr=8-6\"\n",
    "   \n",
    "    msg = f\"Subject: {subject}\\n\\n{body}\"\n",
    "    \n",
    "    server.sendmail(\n",
    "        'SENDERMAILHERE',\n",
    "        'RECIPIENTMAILHERE',\n",
    "        msg\n",
    "     \n",
    "    )"
   ]
  },
  {
   "cell_type": "code",
   "execution_count": null,
   "id": "7e9ef722-afad-4253-8df0-e145d37a674f",
   "metadata": {},
   "outputs": [],
   "source": []
  }
 ],
 "metadata": {
  "kernelspec": {
   "display_name": "Python 3 (ipykernel)",
   "language": "python",
   "name": "python3"
  },
  "language_info": {
   "codemirror_mode": {
    "name": "ipython",
    "version": 3
   },
   "file_extension": ".py",
   "mimetype": "text/x-python",
   "name": "python",
   "nbconvert_exporter": "python",
   "pygments_lexer": "ipython3",
   "version": "3.12.4"
  }
 },
 "nbformat": 4,
 "nbformat_minor": 5
}
